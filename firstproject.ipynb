{
  "metadata": {
    "kernelspec": {
      "name": "python",
      "display_name": "Python (Pyodide)",
      "language": "python"
    },
    "language_info": {
      "codemirror_mode": {
        "name": "python",
        "version": 3
      },
      "file_extension": ".py",
      "mimetype": "text/x-python",
      "name": "python",
      "nbconvert_exporter": "python",
      "pygments_lexer": "ipython3",
      "version": "3.8"
    }
  },
  "nbformat_minor": 4,
  "nbformat": 4,
  "cells": [
    {
      "cell_type": "code",
      "source": "import re\n\n# تعريف التعابير النمطية\ntoken_patterns = {\n    'keyword': r'\\b(int|float|if|else|while|return)\\b',\n    'identifier': r'[a-zA-Z_][a-zA-Z0-9_]*',\n    'constant': r'\\d+',\n    'operator': r'[+\\-*/=]',\n    'delimiter': r'[;,\\]',\n    'parenthesis': r'[{}\\(\\)]'\n}\n\n# دمج التعابير النمطية في تعبير واحد\ntoken_regex = '|'.join(f'(?P<{name}>{pattern})' for name, pattern in token_patterns.items())\n\n# نص البرنامج لاختباره\nprogram_text = '''\nint main() {\n    int x = 5;\n    float y = 3.14;\n    x = x + y;\n    return x;\n}\n'''\n\n# عمل الـscanner\ntokens = []\nfor match in re.finditer(token_regex, program_text):\n    token_type = match.lastgroup\n    token_value = match.group(token_type)\n    tokens.append((token_type, token_value))\n\n# طباعة الـtokens\nfor token in tokens:\n    print(token)\n",
      "metadata": {
        "trusted": true
      },
      "outputs": [
        {
          "name": "stdout",
          "text": "('keyword', 'int')\n('identifier', 'main')\n('delimiter', '(')\n('delimiter', ')')\n('delimiter', '{')\n('keyword', 'int')\n('identifier', 'x')\n('operator', '=')\n('constant', '5')\n('delimiter', ';')\n('keyword', 'float')\n('identifier', 'y')\n('operator', '=')\n('constant', '3')\n('constant', '14')\n('delimiter', ';')\n('identifier', 'x')\n('operator', '=')\n('identifier', 'x')\n('operator', '+')\n('identifier', 'y')\n('delimiter', ';')\n('keyword', 'return')\n('identifier', 'x')\n('delimiter', ';')\n('delimiter', '}')\n",
          "output_type": "stream"
        }
      ],
      "execution_count": 3
    },
    {
      "cell_type": "code",
      "source": "",
      "metadata": {
        "trusted": true
      },
      "outputs": [],
      "execution_count": null
    }
  ]
}